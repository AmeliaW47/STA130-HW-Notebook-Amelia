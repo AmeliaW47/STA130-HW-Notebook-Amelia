{
 "cells": [
  {
   "cell_type": "code",
   "execution_count": null,
   "id": "b20c6bc6",
   "metadata": {},
   "outputs": [],
   "source": [
    "import pandas as pd\n",
    "\n",
    "\n",
    "file_path = 'your_dataset.csv'  # Change to the correct path of your dataset\n",
    "data = pd.read_csv(file_path)\n",
    "\n",
    "\n",
    "missing_values = data.isnull().sum()\n",
    "\n",
    "\n",
    "print(missing_values)\n"
   ]
  },
  {
   "cell_type": "code",
   "execution_count": null,
   "id": "5cb5725c",
   "metadata": {},
   "outputs": [],
   "source": [
    "import pandas as pd\n",
    "\n",
    "\n",
    "file_path = 'your_dataset.csv'  # Update with the correct dataset path\n",
    "data = pd.read_csv(file_path)\n",
    "\n",
    "\n",
    "rows, columns = data.shape\n",
    "\n",
    "\n",
    "print(f'The dataset has {rows} rows and {columns} columns.')\n",
    "\n"
   ]
  },
  {
   "cell_type": "code",
   "execution_count": null,
   "id": "e488084a",
   "metadata": {},
   "outputs": [],
   "source": [
    "observation in a dataset refer to the individual units or records from which data is collected.Each row in the Dataframe represents one observation\n",
    "For instance:if the dataset records customer transactions, each row (observation) might correspond to a specific customer's transaction, including details like the date, items purchased, and total amount spent."
   ]
  },
  {
   "cell_type": "code",
   "execution_count": null,
   "id": "2af6e8de",
   "metadata": {},
   "outputs": [],
   "source": [
    "Variables:Transaction_ID, Customer_ID, Date"
   ]
  },
  {
   "cell_type": "code",
   "execution_count": null,
   "id": "3d6d3437",
   "metadata": {},
   "outputs": [],
   "source": [
    "import pandas as pd\n",
    "\n",
    "\n",
    "file_path = 'your_dataset.csv' \n",
    "data = pd.read_csv(file_path)\n",
    "\n",
    "\n",
    "summary = data.describe()\n",
    "\n",
    "\n",
    "print(summary)\n",
    "\n",
    "or\n",
    "\n",
    "summary = data.describe(include='all')\n",
    "print(summary)\n"
   ]
  },
  {
   "cell_type": "code",
   "execution_count": null,
   "id": "1f04aff9",
   "metadata": {},
   "outputs": [],
   "source": [
    "import pandas as pd\n",
    "import numpy as np\n",
    "\n",
    "\n",
    "data = {\n",
    "    'Name': ['Alice', 'Bob', 'Charlie', 'David', 'Eva'],\n",
    "    'Age': [25, 35, np.nan, 28, np.nan],\n",
    "    'Salary': [50000, np.nan, 70000, 60000, np.nan],\n",
    "    'City': ['New York', 'Los Angeles', 'Chicago', np.nan, 'Miami'],\n",
    "    'Date Joined': ['2020-01-15', '2019-06-20', '2021-03-10', '2018-11-22', '2022-05-30']\n",
    "}\n",
    "\n",
    "df = pd.DataFrame(data)\n",
    "\n",
    "\n",
    "print(\"Dataset shape (rows, columns):\", df.shape)\n",
    "\n",
    "\n",
    "print(\"\\nSummary statistics (numeric columns only):\")\n",
    "print(df.describe())\n",
    "\n",
    "\n",
    "print(\"\\nSummary statistics (all columns):\")\n",
    "print(df.describe(include='all'))\n"
   ]
  },
  {
   "cell_type": "code",
   "execution_count": null,
   "id": "b844ed9d",
   "metadata": {},
   "outputs": [],
   "source": [
    "Dataset shape (rows, columns): (5, 5)\n"
   ]
  },
  {
   "cell_type": "code",
   "execution_count": null,
   "id": "c2f0cd12",
   "metadata": {},
   "outputs": [],
   "source": [
    "  Summary statistics (numeric columns only):\n",
    "         Age        Salary\n",
    "  count   3.0     3.000000\n",
    "  mean   29.333333 60000.000000\n",
    "  std     5.131601 10000.000000\n",
    "  min    25.000000 50000.000000\n",
    "  25%    26.500000 55000.000000\n",
    "  50%    28.000000 60000.000000\n",
    "  75%    31.500000 65000.000000\n",
    "  max    35.000000 70000.000000\n"
   ]
  },
  {
   "cell_type": "code",
   "execution_count": null,
   "id": "1b53ecbd",
   "metadata": {},
   "outputs": [],
   "source": [
    "  Summary statistics (all columns):\n",
    "         Name   Age   Salary        City  Date Joined\n",
    "  count     5   3.0      3.0            4            5\n",
    "  unique    5   NaN      NaN            4            5\n",
    "  top    Alice   NaN      NaN    New York     2020-01-15\n",
    "  freq      1   NaN      NaN            1            1\n",
    "  mean     NaN 29.333333 60000.0         NaN         NaN\n",
    "  std      NaN  5.131601 10000.0         NaN         NaN\n",
    "  min      NaN 25.0      50000.0         NaN         NaN\n",
    "  25%      NaN 26.5      55000.0         NaN         NaN\n",
    "  50%      NaN 28.0      60000.0         NaN         NaN\n",
    "  75%      NaN 31.5      65000.0         NaN         NaN\n",
    "  max      NaN 35.0      70000.0         NaN         NaN\n"
   ]
  },
  {
   "cell_type": "code",
   "execution_count": null,
   "id": "de0ac5f9",
   "metadata": {},
   "outputs": [],
   "source": [
    "1. Attribute (df.shape):\n",
    "An attribute is like a property or characteristic of an object.\n",
    "It holds some kind of information about the object, such as its size, name, or structure.\n",
    "Attributes do not require parentheses because they just give you stored information without performing any action.\n",
    "Example: df.shape is an attribute of a pandas DataFrame, and it gives you the dimensions of the DataFrame (the number of rows and columns) as a tuple. It doesn’t perform any operation, just retrieves the data."
   ]
  },
  {
   "cell_type": "code",
   "execution_count": null,
   "id": "e3d4849d",
   "metadata": {},
   "outputs": [],
   "source": [
    "rows, columns = df.shape\n"
   ]
  },
  {
   "cell_type": "code",
   "execution_count": null,
   "id": "db7e9b70",
   "metadata": {},
   "outputs": [],
   "source": [
    "summary_stats = df.describe\n"
   ]
  },
  {
   "cell_type": "code",
   "execution_count": null,
   "id": "d3e3ea03",
   "metadata": {},
   "outputs": [],
   "source": [
    "Count:\n",
    "\n",
    "This is the number of non-null (non-missing) values in each column.\n",
    "Example: If there are 100 values in a column but 10 are missing, the count will be 90.\n",
    "Mean:\n",
    "\n",
    "The average of all the values in the column.\n",
    "It is calculated by summing all the values and dividing by the count of non-null values.\n",
    "Formula: \n",
    "Mean\n",
    "=\n",
    "∑\n",
    "values\n",
    "count\n",
    "Mean= \n",
    "count\n",
    "∑values\n",
    "​\n",
    " \n",
    "Example: For values [10, 20, 30], the mean is \n",
    "10\n",
    "+\n",
    "20\n",
    "+\n",
    "30\n",
    "3\n",
    "=\n",
    "20\n",
    "3\n",
    "10+20+30\n",
    "​\n",
    " =20.\n",
    "Standard Deviation (std):\n",
    "\n",
    "A measure of how spread out the values are around the mean.\n",
    "The higher the standard deviation, the more spread out the values are.\n",
    "Example: A low standard deviation means values are close to the mean, while a high standard deviation means they are more spread out.\n",
    "Minimum (min):\n",
    "\n",
    "The smallest value in the column.\n",
    "Example: In the set [10, 20, 30], the minimum value is 10.\n",
    "25% (First Quartile):\n",
    "\n",
    "The first quartile is the value below which 25% of the data lies.\n",
    "Also known as the 25th percentile, it shows where the lower 25% of data is situated.\n",
    "Example: In a sorted list [10, 20, 30, 40, 50], the first quartile would be 20.\n",
    "50% (Median or Second Quartile):\n",
    "\n",
    "The median is the middle value, which divides the data into two equal parts.\n",
    "It is the value below which 50% of the data lies.\n",
    "Example: In a sorted list [10, 20, 30, 40, 50], the median is 30.\n",
    "75% (Third Quartile):\n",
    "\n",
    "The third quartile is the value below which 75% of the data lies.\n",
    "It separates the top 25% of the data from the bottom 75%.\n",
    "Example: In a sorted list [10, 20, 30, 40, 50], the third quartile is 40.\n",
    "Maximum (max):\n",
    "\n",
    "The largest value in the column.\n",
    "Example: In the set [10, 20, 30], the maximum value is 30."
   ]
  },
  {
   "cell_type": "code",
   "execution_count": null,
   "id": "6c3cf6e0",
   "metadata": {},
   "outputs": [],
   "source": [
    "df_clean = df.dropna()\n"
   ]
  },
  {
   "cell_type": "code",
   "execution_count": null,
   "id": "44075441",
   "metadata": {},
   "outputs": [],
   "source": [
    "del df['PhoneNumber']\n"
   ]
  },
  {
   "cell_type": "code",
   "execution_count": null,
   "id": "99edcec2",
   "metadata": {},
   "outputs": [],
   "source": [
    "\n",
    "del df['UnusedData']\n",
    "\n",
    "\n",
    "df_clean = df.dropna()\n"
   ]
  },
  {
   "cell_type": "code",
   "execution_count": null,
   "id": "5d4d37d1",
   "metadata": {},
   "outputs": [],
   "source": [
    "import pandas as pd\n",
    "import numpy as np\n",
    "\n",
    "\n",
    "data = {\n",
    "    'EmployeeID': [1, 2, 3, 4, 5],\n",
    "    'Name': ['Alice', 'Bob', np.nan, 'David', 'Eva'],\n",
    "    'Age': [30, np.nan, 40, 35, np.nan],\n",
    "    'Department': ['HR', 'IT', 'Finance', np.nan, 'Marketing'],\n",
    "    'Salary': [50000, np.nan, 60000, 55000, np.nan]\n",
    "}\n",
    "df = pd.DataFrame(data)\n",
    "print(\"Before Cleaning:\")\n",
    "print(df)\n"
   ]
  },
  {
   "cell_type": "code",
   "execution_count": null,
   "id": "7e0d89e0",
   "metadata": {},
   "outputs": [],
   "source": [
    "import pandas as pd\n",
    "\n",
    "\n",
    "url = \"https://raw.githubusercontent.com/mwaskom/seaborn-data/master/titanic.csv\"\n",
    "titanic_df = pd.read_csv(url)\n",
    "\n",
    "\n",
    "result = titanic_df.groupby(\"embarked\")[\"age\"].describe()\n",
    "print(result)\n"
   ]
  }
 ],
 "metadata": {
  "kernelspec": {
   "display_name": "Python 3 (ipykernel)",
   "language": "python",
   "name": "python3"
  },
  "language_info": {
   "codemirror_mode": {
    "name": "ipython",
    "version": 3
   },
   "file_extension": ".py",
   "mimetype": "text/x-python",
   "name": "python",
   "nbconvert_exporter": "python",
   "pygments_lexer": "ipython3",
   "version": "3.11.6"
  }
 },
 "nbformat": 4,
 "nbformat_minor": 5
}
