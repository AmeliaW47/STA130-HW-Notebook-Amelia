{
 "cells": [
  {
   "cell_type": "markdown",
   "id": "2f946102",
   "metadata": {},
   "source": [
    "1.The standard deviation of the original data measures the spread or variability of individual data points around the mean of that dataset. It gives us an idea of how much the values in the dataset differ from the average value.\n",
    "\n",
    "The standard error of the mean (SEM), on the other hand, captures how much the sample mean is expected to vary from the true population mean if we were to take multiple samples from the population. It's essentially the standard deviation of the sampling distribution of the mean, often estimated by bootstrapping or repeated sampling. The SEM is typically smaller than the standard deviation, as it reflects the variability of the mean rather than individual data points."
   ]
  },
  {
   "cell_type": "markdown",
   "id": "41bc8567",
   "metadata": {},
   "source": [
    "2.To create a 95% confidence interval using the standard error of the mean (SEM), you can follow these steps:\n",
    "\n",
    "Calculate the sample mean of your data.\n",
    "Multiply the SEM by 1.96, which is the z-score for 95% confidence in a normal distribution.\n",
    "Add and subtract this value (1.96 * SEM) from the sample mean to get the lower and upper bounds of the confidence interval.\n",
    "This confidence interval provides a range within which 95% of the bootstrapped sample means are expected to fall, giving us a likely range for the population mean."
   ]
  },
  {
   "cell_type": "markdown",
   "id": "e7fa6507",
   "metadata": {},
   "source": [
    "3.To create a 95% bootstrapped confidence interval using the bootstrapped means (without using the standard deviation to estimate the SEM), follow these steps:\n",
    "\n",
    "Generate many bootstrapped samples from the original dataset (e.g., 1000 or more).\n",
    "Calculate the mean for each bootstrapped sample.\n",
    "Sort the bootstrapped means in ascending order.\n",
    "To get the 95% confidence interval, remove the top 2.5% and bottom 2.5% of the bootstrapped means.\n",
    "The values at the 2.5th percentile and 97.5th percentile are the lower and upper bounds of the 95% confidence interval.\n",
    "This method directly uses the distribution of the bootstrapped means to estimate the range where 95% of the sample means fall."
   ]
  },
  {
   "cell_type": "markdown",
   "id": "2116264a",
   "metadata": {},
   "source": [
    "4.To create a 95% bootstrapped confidence interval using the bootstrapped means (without using the standard deviation to estimate the SEM), follow these steps:\n",
    "\n",
    "Generate many bootstrapped samples from the original dataset (e.g., 1000 or more).\n",
    "Calculate the mean for each bootstrapped sample.\n",
    "Sort the bootstrapped means in ascending order.\n",
    "To get the 95% confidence interval, remove the top 2.5% and bottom 2.5% of the bootstrapped means.\n",
    "The values at the 2.5th percentile and 97.5th percentile are the lower and upper bounds of the 95% confidence interval.\n",
    "This method directly uses the distribution of the bootstrapped means to estimate the range where 95% of the sample means fall."
   ]
  },
  {
   "cell_type": "markdown",
   "id": "6864e6eb",
   "metadata": {},
   "source": [
    "5.We need to distinguish between the population parameter and the sample statistic when making confidence intervals because:\n",
    "\n",
    "The population parameter is the true value we're trying to estimate, but it is generally unknown and fixed.\n",
    "The sample statistic (like the sample mean) is an estimate based on the sample data. It can vary from sample to sample due to sampling variability.\n",
    "A confidence interval gives a range of plausible values for the population parameter, based on the variability of the sample statistic. It's important to recognize that the confidence interval reflects uncertainty in the sample statistic and not in the population parameter itself, which remains constant."
   ]
  },
  {
   "cell_type": "markdown",
   "id": "32f079c0",
   "metadata": {},
   "source": [
    "6.What is the process of bootstrapping?\n",
    "Imagine you have a sample of data from a population, but you don’t have the whole population's data. Bootstrapping is a way to mimic having more data by creating many new samples from the original sample. You do this by randomly selecting values from the sample, with replacement, to form new samples. You repeat this process many times (like 1000 times) to get a bunch of \"bootstrapped\" samples, and from each, you can calculate a statistic like the mean.\n",
    "What is the main purpose of bootstrapping?\n",
    "The main purpose of bootstrapping is to estimate the uncertainty or variability of a statistic (like the mean or median) when you don’t have access to the entire population. It helps you understand how much your sample estimate might change if you could take many more samples from the population. This gives you a sense of how reliable your estimate is.\n",
    "How could you use bootstrapping to assess whether a hypothesized guess about the average of a population is plausible?\n",
    "You have a guess (hypothesis) about what the population’s average is, and you also have a sample of size n. To use bootstrapping to check if your guess is reasonable, you can:\n",
    "\n",
    "Create many bootstrapped samples from your original sample.\n",
    "Calculate the mean for each bootstrapped sample.\n",
    "After getting all these bootstrapped means, check how often they fall near your hypothesized guess.\n",
    "If most of the bootstrapped means are close to your guess, it might be plausible. But if most of them are far away from your guess, the hypothesis might not be correct."
   ]
  },
  {
   "cell_type": "markdown",
   "id": "8011817d",
   "metadata": {},
   "source": [
    "7.Why does a confidence interval overlapping zero \"fail to reject the null hypothesis\" when the observed sample mean statistic itself is not zero?\n",
    "When a confidence interval includes zero, it means that zero is a plausible value for the population parameter (in this case, the average effect of a drug). Even though your sample might show a mean that is not zero, the confidence interval tells you that, based on your sample data and its variability, the true population effect could still be zero. Therefore, you fail to reject the null hypothesis because zero (meaning no effect) is within the range of possible values. The sample mean alone isn't enough to conclude that the drug has an effect if zero is a plausible option.\n",
    "\n",
    "What would lead to the opposite conclusion?\n",
    "If the confidence interval does not include zero, it means that zero is not a plausible value for the population parameter. This would suggest that the drug's effect is different from zero, and you would reject the null hypothesis. Essentially, you're saying that the data provide enough evidence that the drug is having a significant effect on average."
   ]
  },
  {
   "cell_type": "markdown",
   "id": "643e0c74",
   "metadata": {},
   "source": [
    "8.Data Visualization:\n",
    "First, we will visualize the data to get a sense of how health scores changed before and after the vaccine.\n",
    "\n",
    "Histogram or Box Plot of InitialHealthScore vs. FinalHealthScore to show how health scores improved after taking the vaccine.\n",
    "Scatter Plot of Initial vs. Final health scores to see the individual changes.\n",
    "This will help illustrate the overall trend in the data and provide an intuitive feel for whether the vaccine had an effect.\n",
    "\n",
    "Quantitative Analysis:\n",
    "We will use bootstrapping to assess the difference between initial and final health scores. Bootstrapping allows us to generate multiple simulated samples to estimate the standard error and create a confidence interval.\n",
    "\n",
    "Methodology:\n",
    "Null Hypothesis: There is no difference in health scores before and after taking the vaccine.\n",
    "Alternative Hypothesis: The vaccine has a positive effect, improving health scores.\n",
    "We will compute:\n",
    "\n",
    "The difference between the InitialHealthScore and FinalHealthScore for each patient.\n",
    "Bootstrapped resamples of this difference to create a distribution of mean differences.\n",
    "Use the 95% confidence interval from the bootstrapped distribution to assess whether zero falls within the interval.\n",
    "Findings and Discussion:\n",
    "After running the bootstrapping process, we will analyze the confidence interval. If the interval includes zero, we fail to reject the null hypothesis, meaning there is not enough evidence that the vaccine improved health.\n",
    "If the confidence interval excludes zero, we can reject the null hypothesis, suggesting the vaccine has a significant positive effect.\n",
    "We will conclude whether or not the evidence supports the vaccine's effectiveness based on the bootstrapped confidence interval and whether the null hypothesis is rejected."
   ]
  },
  {
   "cell_type": "markdown",
   "id": "b2710a79",
   "metadata": {},
   "source": [
    "9.yes"
   ]
  }
 ],
 "metadata": {
  "kernelspec": {
   "display_name": "Python 3 (ipykernel)",
   "language": "python",
   "name": "python3"
  },
  "language_info": {
   "codemirror_mode": {
    "name": "ipython",
    "version": 3
   },
   "file_extension": ".py",
   "mimetype": "text/x-python",
   "name": "python",
   "nbconvert_exporter": "python",
   "pygments_lexer": "ipython3",
   "version": "3.11.6"
  }
 },
 "nbformat": 4,
 "nbformat_minor": 5
}
