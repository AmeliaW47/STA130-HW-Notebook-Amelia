{
 "cells": [
  {
   "cell_type": "markdown",
   "id": "072ec0aa",
   "metadata": {},
   "source": [
    "1.The key factor that makes the difference between ideas that can and cannot be examined and tested statistically is measurability. A hypothesis must be framed in a way that involves observable and quantifiable variables. Ideas that can't be tied to specific data or measurements can't be tested statistically.\n",
    "\n",
    "In my opion,A good null hypothesis should be clear, testable, and specific. It should propose that there is no effect, difference, or relationship between the variables being studied. This simplicity allows for a straightforward assessment of whether the data provides evidence against it.\n",
    "\n",
    "The difference between a null hypothesis (H₀) and an alternative hypothesis (H₁) is that the null hypothesis assumes no effect or no difference, while the alternative hypothesis suggests that there is a statistically significant effect or difference. In hypothesis testing, we seek to determine if we have enough evidence to reject the null hypothesis in favor of the alternative hypothesis."
   ]
  },
  {
   "cell_type": "markdown",
   "id": "f8b7d381",
   "metadata": {},
   "source": [
    "2.A sample is a smaller group selected from the population, and we gather data from this group.\n",
    "A statistic is a number (like an average) calculated from the sample's data.\n",
    "A population includes everyone or everything we're studying, and a parameter is a number (like an average) that describes the population.\n",
    "x \n",
    "i\n",
    "​\n",
    " : This represents an individual data point or observation from the sample. If you collect data from a group of people, each person's measurement would be an \n",
    "𝑥\n",
    "𝑖\n",
    "x \n",
    "i\n",
    "​\n",
    " . For example, if you're measuring heights, each person's height would be an \n",
    "𝑥\n",
    "𝑖\n",
    "x \n",
    "i\n",
    "​\n",
    " .\n",
    "\n",
    "𝑥\n",
    "ˉ\n",
    "x\n",
    "ˉ\n",
    "  (sample mean): This is the average of all the data points in the sample. You calculate it by adding up all the \n",
    "𝑥\n",
    "𝑖\n",
    "x \n",
    "i\n",
    "​\n",
    "  values (the individual data points) and dividing by the total number of data points. This gives you a single number that represents the central tendency of your sample.\n",
    "\n",
    "𝜇\n",
    "μ (population mean): This is the true average of the entire population (not just the sample). It's a theoretical value because we usually don’t have access to every data point in the population. The goal of hypothesis testing is often to make conclusions about \n",
    "𝜇\n",
    "μ based on the sample data.\n",
    "\n",
    "𝜇\n",
    "0\n",
    "μ \n",
    "0\n",
    "​\n",
    "  (null hypothesis mean): This is the value of the population mean assumed under the null hypothesis. When conducting a hypothesis test, you start by assuming that the population mean \n",
    "𝜇\n",
    "μ is equal to some specific value, \n",
    "𝜇\n",
    "0\n",
    "μ \n",
    "0\n",
    "​\n",
    " . For example, if you're testing whether a drug has no effect, you might assume that the population mean improvement \n",
    "𝜇\n",
    "0\n",
    "μ \n",
    "0\n",
    "​\n",
    "  is 0 (no effect)."
   ]
  },
  {
   "cell_type": "markdown",
   "id": "994b0938",
   "metadata": {},
   "source": [
    "3.When we calculating a p-value, we start by assuming that the null hypothesis (H₀) is true because it gives us a clear baseline to compare our data against. We ask, \"If there really is no effect or difference (as the null hypothesis suggests), how likely would it be to get the sample data we have?\"\n",
    "\n",
    "This approach helps us understand if the sample result is something we would expect by random chance under the assumption of no effect. If the p-value is very small, it means that getting a result like ours would be highly unlikely if the null hypothesis were true, which suggests that the null hypothesis might not be a good explanation for our data.\n",
    "\n",
    "In simple terms, imagining a world where the null hypothesis is true helps us see if our data fits into that world or if it suggests something else (the alternative hypothesis)."
   ]
  },
  {
   "cell_type": "markdown",
   "id": "4a01aca7",
   "metadata": {},
   "source": [
    "4.A smaller p-value suggests that the data we observed is very unlikely to happen if the null hypothesis (H₀) were true.\n",
    "\n",
    "The p-value measures the probability of getting results at least as extreme as what we observed, assuming that the null hypothesis is correct. So, if the p-value is very small, it means that under the assumption of the null hypothesis, the observed data is extremely unusual or rare. This makes it seem \"ridiculous\" or hard to believe that the null hypothesis is true, because the chance of seeing such extreme data by random chance alone is so low.\n",
    "\n",
    "In simpler terms: the smaller the p-value, the less likely the data fits with the world where the null hypothesis is true, making the null hypothesis look less believable. This gives us more reason to reject it and consider that the alternative hypothesis might be true instead."
   ]
  },
  {
   "cell_type": "markdown",
   "id": "fbafb3c0",
   "metadata": {},
   "source": [
    "5.Null Hypothesis (\n",
    "𝐻\n",
    "0\n",
    "H \n",
    "0\n",
    "​\n",
    " ): Assume that there is no preference for head tilting, meaning the probability of tilting left or right is 50% each (like a coin flip).\n",
    "\n",
    "Sample Statistic: You observed that 80 out of 124 couples tilted their heads to the right, which is 64.5%.\n",
    "\n",
    "Simulation or Binomial Test: To simulate the p-value, you can use a binomial model where each \"couple\" has a 50/50 chance of tilting their head either way, then calculate how often (under these assumptions) you get a proportion of 64.5% or more tilting to the right.\n",
    "\n",
    "The binomial distribution can be used to model this, with parameters:\n",
    "\n",
    "Number of trials: 124 (couples)\n",
    "Probability of success (tilting right under \n",
    "𝐻\n",
    "0\n",
    "H \n",
    "0\n",
    "​\n",
    " ): 0.5\n",
    "Calculate the p-value: The p-value will reflect the probability of getting a result as extreme as or more extreme than 64.5% tilting to the right, assuming no preference exists (50/50 chance)."
   ]
  },
  {
   "cell_type": "markdown",
   "id": "b9a2de71",
   "metadata": {},
   "source": [
    "6.In my opinon,a smaller p-value does not definitively prove that the null hypothesis is false. Instead, a small p-value suggests that the observed data is unlikely under the null hypothesis, giving us evidence to reject it. However, we can't prove anything with certainty because hypothesis testing is based on probabilities, not absolutes.\n",
    "\n",
    "Regarding Fido's innocence or guilt (from the second pre-lecture video):\n",
    "\n",
    "A p-value cannot definitively prove that Fido is innocent (or that the null hypothesis is true). A high p-value only indicates that there's not enough evidence to reject the null hypothesis; it doesn't prove innocence.\n",
    "\n",
    "Similarly, a p-value cannot definitively prove that Fido is guilty (or that the null hypothesis is false). A low p-value indicates that the observed result is unlikely if the null hypothesis were true, but it doesn't provide absolute proof of guilt.\n",
    "\n",
    "There's no specific p-value that definitively proves innocence or guilt. Instead, we use thresholds (like 0.05 or 0.01) to make decisions. If the p-value is below this threshold, we reject the null hypothesis, but even then, we're only saying that the data provides strong evidence against it, not definitive proof."
   ]
  },
  {
   "cell_type": "markdown",
   "id": "8ef4ee3c",
   "metadata": {},
   "source": [
    "7.In a one-sided (or one-tailed) test, we are only interested in testing for an effect in one direction (either greater than or less than a certain value), while in a two-sided (or two-tailed) test, we consider the possibility of the effect in both directions (either greater than or less than a certain value). This change affects the hypothesis test by focusing on a specific directional outcome rather than both.\n",
    "\n",
    "Code Adjustment for One-Sided Test:\n",
    "In most coding languages and libraries (such as Python's scipy library for statistical tests), switching from a two-sided to a one-sided test usually involves:\n",
    "\n",
    "Two-Sided Test: For a two-sided test, the code likely uses a default setting (e.g., alternative='two-sided' in functions like scipy.stats.ttest_ind())."
   ]
  },
  {
   "cell_type": "code",
   "execution_count": null,
   "id": "a012147d",
   "metadata": {},
   "outputs": [],
   "source": [
    "from scipy import stats\n",
    "t_stat, p_value = stats.ttest_ind(data_group1, data_group2, alternative='two-sided')\n"
   ]
  },
  {
   "cell_type": "markdown",
   "id": "5ae5ac62",
   "metadata": {},
   "source": [
    "One-Sided Test: For a one-sided test, you need to adjust the code to specify which direction you are testing for (greater or less than). This is often done by changing the alternative parameter to 'greater' or 'less'.\n",
    "\n",
    "Example for testing if group 1 mean is greater than group 2 mean:"
   ]
  },
  {
   "cell_type": "code",
   "execution_count": null,
   "id": "ef00aef9",
   "metadata": {},
   "outputs": [],
   "source": [
    "t_stat, p_value = stats.ttest_ind(data_group1, data_group2, alternative='greater')\n"
   ]
  },
  {
   "cell_type": "markdown",
   "id": "86fc8675",
   "metadata": {},
   "source": [
    "In a two-tailed test, the p-value accounts for extreme outcomes in both directions (i.e., significantly higher or lower than the hypothesized value).\n",
    "In a one-tailed test, the p-value only accounts for extreme outcomes in one direction, so you only reject the null hypothesis if the result is extreme in that specific direction."
   ]
  },
  {
   "cell_type": "markdown",
   "id": "7e955b61",
   "metadata": {},
   "source": [
    "I should expect the p-value to be smaller in a one-sided test because it focuses on only one tail of the distribution. In a two-sided test, the p-value is spread across both tails, effectively doubling the area under the curve that represents extreme outcomes. By narrowing your focus to one tail, you're increasing the likelihood of getting a significant result (if the data supports it in that direction)."
   ]
  },
  {
   "cell_type": "markdown",
   "id": "cd302309",
   "metadata": {},
   "source": [
    "8.Relationship to Fisher and Bristol’s Experiment\n",
    "In Fisher’s original experiment, Dr. Bristol correctly identified all 8 cups, leading Fisher to statistically test whether this success could be attributed to random guessing. In our case, the sample size is much larger (80 students), but the underlying idea is the same: testing if the success rate (49/80) could occur by random guessing.\n",
    "\n",
    "Statements of the Null Hypothesis and Alternative Hypothesis\n",
    "Null Hypothesis (\n",
    "𝐻\n",
    "0\n",
    "H \n",
    "0\n",
    "​\n",
    " ): The students are guessing randomly, so the probability of correctly identifying whether the tea or milk was poured first is 50% (like a coin flip).\n",
    "Alternative Hypothesis (\n",
    "𝐻\n",
    "1\n",
    "H \n",
    "1\n",
    "​\n",
    " ): The students are not guessing randomly and can identify the pouring order better than chance.\n",
    "Formally:\n",
    "\n",
    "𝐻\n",
    "0\n",
    "H \n",
    "0\n",
    "​\n",
    " : \n",
    "𝑝\n",
    "=\n",
    "0.5\n",
    "p=0.5 (The probability of correctly identifying is 50%)\n",
    "𝐻\n",
    "1\n",
    "H \n",
    "1\n",
    "​\n",
    " : \n",
    "𝑝\n",
    ">\n",
    "0.5\n",
    "p>0.5 (The probability of correctly identifying is greater than 50%)\n",
    "Quantitative Analysis\n",
    "To test the null hypothesis, we can use a binomial test. The binomial test is appropriate because it models the number of successes (correct identifications) out of a fixed number of trials (80 students), assuming a 50% success probability under the null hypothesis.\n",
    "\n",
    "Observed test statistic: 49 correct identifications out of 80.\n",
    "Population parameter: The true proportion \n",
    "𝑝\n",
    "p of students who can correctly identify the pouring order.\n",
    "Methodology:\n",
    "Set up a binomial test where:\n",
    "Number of trials (students): 80\n",
    "Number of successes (correct identifications): 49\n",
    "Null hypothesis success probability: 0.5\n",
    "Calculate the p-value for this observed result."
   ]
  },
  {
   "cell_type": "code",
   "execution_count": null,
   "id": "c3984f4a",
   "metadata": {},
   "outputs": [],
   "source": [
    "import numpy as np\n",
    "from scipy import stats\n",
    "\n",
    "# Set the seed for reproducibility\n",
    "np.random.seed(42)\n",
    "\n",
    "# Data: 49 out of 80 students correctly identified the pouring order\n",
    "correct_identifications = 49\n",
    "total_students = 80\n",
    "null_probability = 0.5\n",
    "\n",
    "# Perform a binomial test\n",
    "p_value = stats.binom_test(correct_identifications, total_students, null_probability, alternative='greater')\n",
    "\n",
    "print(f\"P-value: {p_value}\")\n"
   ]
  },
  {
   "cell_type": "markdown",
   "id": "2b74d004",
   "metadata": {},
   "source": [
    "The p-value tells us the probability of observing 49 or more correct identifications under the assumption that students are randomly guessing (50% chance).\n",
    "If the p-value is very small (e.g., less than 0.05), we have strong evidence against the null hypothesis, meaning students likely can discern the pouring order.\n",
    "Findings and Discussion\n",
    "Supporting Visualizations (Optional): You could visualize the binomial distribution under the null hypothesis and shade the area corresponding to 49 or more correct identifications.\n",
    "Conclusion Regarding the Null Hypothesis\n",
    "Based on the p-value from the binomial test, we would either reject or fail to reject the null hypothesis. If the p-value is small, we reject the null hypothesis, concluding that students may indeed have the ability to identify the pouring order better than random guessing."
   ]
  },
  {
   "cell_type": "markdown",
   "id": "9ad294c9",
   "metadata": {},
   "source": [
    "9.yes"
   ]
  }
 ],
 "metadata": {
  "kernelspec": {
   "display_name": "Python 3 (ipykernel)",
   "language": "python",
   "name": "python3"
  },
  "language_info": {
   "codemirror_mode": {
    "name": "ipython",
    "version": 3
   },
   "file_extension": ".py",
   "mimetype": "text/x-python",
   "name": "python",
   "nbconvert_exporter": "python",
   "pygments_lexer": "ipython3",
   "version": "3.11.6"
  }
 },
 "nbformat": 4,
 "nbformat_minor": 5
}
